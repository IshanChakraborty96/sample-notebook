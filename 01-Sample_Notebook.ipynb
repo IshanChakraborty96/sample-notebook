{
 "cells": [
  {
   "cell_type": "code",
   "execution_count": 1,
   "metadata": {
    "tags": [
     "imports"
    ]
   },
   "outputs": [
    {
     "name": "stderr",
     "output_type": "stream",
     "text": [
      "WARNING: Running pip as the 'root' user can result in broken permissions and conflicting behaviour with the system package manager. It is recommended to use a virtual environment instead: https://pip.pypa.io/warnings/venv\n",
      "WARNING: You are using pip version 21.3.1; however, version 22.2.2 is available.\n",
      "You should consider upgrading via the '/opt/conda/bin/python -m pip install --upgrade pip' command.\n"
     ]
    },
    {
     "data": {
      "text/plain": [
       "0"
      ]
     },
     "execution_count": 1,
     "metadata": {},
     "output_type": "execute_result"
    }
   ],
   "source": [
    "import os\n",
    "\n",
    "import pandas as pd\n",
    "os.system(\"pip install katonic[ml] -q\")"
   ]
  },
  {
   "cell_type": "code",
   "execution_count": 2,
   "metadata": {
    "tags": []
   },
   "outputs": [],
   "source": [
    "import pandas as pd\n",
    "from sklearn import datasets\n",
    "from sklearn.model_selection import train_test_split\n",
    "\n",
    "from katonic.ml.client import set_exp\n",
    "from katonic.ml.classification import Classifier"
   ]
  },
  {
   "cell_type": "code",
   "execution_count": 3,
   "metadata": {
    "tags": [
     "block:load_data"
    ]
   },
   "outputs": [],
   "source": [
    "cancer_data = datasets.load_breast_cancer()\n",
    "cancer_dataframe = pd.DataFrame(cancer_data.data, columns = cancer_data.feature_names)\n",
    "cancer_dataframe['target'] = cancer_data.target"
   ]
  },
  {
   "cell_type": "code",
   "execution_count": 4,
   "metadata": {
    "tags": [
     "block:train_test_split",
     "prev:load_data"
    ]
   },
   "outputs": [],
   "source": [
    "X_train, X_test, y_train, y_test = train_test_split(cancer_dataframe.drop(\"target\", axis=1), cancer_dataframe[\"target\"], test_size=0.20, shuffle=True)"
   ]
  },
  {
   "cell_type": "code",
   "execution_count": 6,
   "metadata": {
    "tags": [
     "block:initializing_experiment",
     "prev:train_test_split"
    ]
   },
   "outputs": [],
   "source": [
    "exp_name = \"Sample_Usecase\"\n",
    "set_exp(exp_name)"
   ]
  },
  {
   "cell_type": "code",
   "execution_count": 7,
   "metadata": {
    "tags": [
     "block:decision_tree_classifier",
     "prev:train_test_split",
     "prev:initializing_experiment"
    ]
   },
   "outputs": [],
   "source": [
    "# Let's Initialize an object for Our Auto ML Classifier along with the training, testing data and an experiment name.\n",
    "\n",
    "classifier = Classifier(X_train, X_test, y_train, y_test, experiment_name=exp_name)\n",
    "\n",
    "# Decision Tree Classifier.\n",
    "classifier.DecisionTreeClassifier()"
   ]
  },
  {
   "cell_type": "code",
   "execution_count": 8,
   "metadata": {
    "tags": [
     "block:knn_classifier",
     "prev:train_test_split",
     "prev:initializing_experiment"
    ]
   },
   "outputs": [],
   "source": [
    "# Let's Initialize an object for Our Auto ML Classifier along with the training, testing data and an experiment name.\n",
    "\n",
    "classifier = Classifier(X_train, X_test, y_train, y_test, experiment_name=exp_name)\n",
    "\n",
    "# K Nearest Neighbors\n",
    "classifier.KNeighborsClassifier()"
   ]
  },
  {
   "cell_type": "code",
   "execution_count": 9,
   "metadata": {
    "tags": [
     "block:random_forest_classifier",
     "prev:train_test_split",
     "prev:initializing_experiment"
    ]
   },
   "outputs": [],
   "source": [
    "# Let's Initialize an object for Our Auto ML Classifier along with the training, testing data and an experiment name.\n",
    "\n",
    "classifier = Classifier(X_train, X_test, y_train, y_test, experiment_name=exp_name)\n",
    "\n",
    "# Random Forest Classifier.\n",
    "classifier.RandomForestClassifier()"
   ]
  }
 ],
 "metadata": {
  "kernelspec": {
   "display_name": "Python 3 (ipykernel)",
   "language": "python",
   "name": "python3"
  },
  "kubeflow_notebook": {
   "autosnapshot": false,
   "docker_image": "katonic/usecaseb1:4.0",
   "experiment": {
    "id": "new",
    "name": "sample-notebook"
   },
   "experiment_name": "sample-notebook",
   "katib_metadata": {
    "algorithm": {
     "algorithmName": "grid"
    },
    "maxFailedTrialCount": 3,
    "maxTrialCount": 12,
    "objective": {
     "objectiveMetricName": "",
     "type": "minimize"
    },
    "parallelTrialCount": 3,
    "parameters": []
   },
   "katib_run": false,
   "pipeline_description": "",
   "pipeline_name": "sample-pipeline-for-model-training",
   "snapshot_volumes": false,
   "steps_defaults": [],
   "storage_class_name": "kfs",
   "volume_access_mode": "rwo",
   "volumes": []
  },
  "language_info": {
   "codemirror_mode": {
    "name": "ipython",
    "version": 3
   },
   "file_extension": ".py",
   "mimetype": "text/x-python",
   "name": "python",
   "nbconvert_exporter": "python",
   "pygments_lexer": "ipython3",
   "version": "3.8.12"
  }
 },
 "nbformat": 4,
 "nbformat_minor": 4
}
